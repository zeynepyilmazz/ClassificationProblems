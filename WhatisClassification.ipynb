{
 "cells": [
  {
   "cell_type": "markdown",
   "metadata": {},
   "source": [
    "Determine whether the following examples are classification problems or regression problems:"
   ]
  },
  {
   "cell_type": "markdown",
   "metadata": {},
   "source": [
    "- Given the size of the house, estimating the price of it : Regression\n",
    "- From the clothes of those who come to see the house, to conclude who has a high or low probability of buying the house : Binary Classification\n",
    "- Using parameters such as location and date, calculate the probability of rain : Regression\n",
    "- Estimating a one's salary using parameters such as education and experience : Regression\n",
    "- Estimation one's age : Regression\n",
    "- Estimation one's income : Regression\n",
    "- Estimate the direction of price of any stock : Classification"
   ]
  }
 ],
 "metadata": {
  "kernelspec": {
   "display_name": "Python 3",
   "language": "python",
   "name": "python3"
  },
  "language_info": {
   "codemirror_mode": {
    "name": "ipython",
    "version": 3
   },
   "file_extension": ".py",
   "mimetype": "text/x-python",
   "name": "python",
   "nbconvert_exporter": "python",
   "pygments_lexer": "ipython3",
   "version": "3.8.3"
  }
 },
 "nbformat": 4,
 "nbformat_minor": 4
}
