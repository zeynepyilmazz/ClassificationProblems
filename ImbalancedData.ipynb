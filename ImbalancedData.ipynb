{
 "cells": [
  {
   "cell_type": "markdown",
   "id": "e12d59fd",
   "metadata": {},
   "source": [
    "Using the dataset for the risk of heart attack with class imbalance:"
   ]
  },
  {
   "cell_type": "markdown",
   "id": "63a2601f",
   "metadata": {},
   "source": [
    "1 . Create a logistic regression model and measure the performance of it."
   ]
  },
  {
   "cell_type": "code",
   "execution_count": 1,
   "id": "6f5a656c",
   "metadata": {},
   "outputs": [],
   "source": [
    "import pandas as pd\n",
    "import matplotlib.pyplot as plt\n",
    "import numpy as np\n",
    "import seaborn as sns\n",
    "import warnings\n",
    "warnings.filterwarnings('ignore')"
   ]
  },
  {
   "cell_type": "code",
   "execution_count": 31,
   "id": "16426bf3",
   "metadata": {},
   "outputs": [],
   "source": [
    "from sklearn.metrics import accuracy_score\n",
    "from sklearn.metrics import precision_score\n",
    "from sklearn.metrics import recall_score\n",
    "from sklearn.metrics import f1_score"
   ]
  },
  {
   "cell_type": "code",
   "execution_count": 2,
   "id": "93896006",
   "metadata": {},
   "outputs": [
    {
     "data": {
      "text/html": [
       "<div>\n",
       "<style scoped>\n",
       "    .dataframe tbody tr th:only-of-type {\n",
       "        vertical-align: middle;\n",
       "    }\n",
       "\n",
       "    .dataframe tbody tr th {\n",
       "        vertical-align: top;\n",
       "    }\n",
       "\n",
       "    .dataframe thead th {\n",
       "        text-align: right;\n",
       "    }\n",
       "</style>\n",
       "<table border=\"1\" class=\"dataframe\">\n",
       "  <thead>\n",
       "    <tr style=\"text-align: right;\">\n",
       "      <th></th>\n",
       "      <th>age</th>\n",
       "      <th>sex</th>\n",
       "      <th>cp</th>\n",
       "      <th>trestbps</th>\n",
       "      <th>chol</th>\n",
       "      <th>fbs</th>\n",
       "      <th>restecg</th>\n",
       "      <th>thalach</th>\n",
       "      <th>exang</th>\n",
       "      <th>oldpeak</th>\n",
       "      <th>slope</th>\n",
       "      <th>ca</th>\n",
       "      <th>thal</th>\n",
       "      <th>num</th>\n",
       "    </tr>\n",
       "  </thead>\n",
       "  <tbody>\n",
       "    <tr>\n",
       "      <th>0</th>\n",
       "      <td>63.0</td>\n",
       "      <td>1.0</td>\n",
       "      <td>1.0</td>\n",
       "      <td>145.0</td>\n",
       "      <td>233.0</td>\n",
       "      <td>1.0</td>\n",
       "      <td>2.0</td>\n",
       "      <td>150.0</td>\n",
       "      <td>0.0</td>\n",
       "      <td>2.3</td>\n",
       "      <td>3.0</td>\n",
       "      <td>0.0</td>\n",
       "      <td>6.0</td>\n",
       "      <td>negative</td>\n",
       "    </tr>\n",
       "    <tr>\n",
       "      <th>1</th>\n",
       "      <td>37.0</td>\n",
       "      <td>1.0</td>\n",
       "      <td>3.0</td>\n",
       "      <td>130.0</td>\n",
       "      <td>250.0</td>\n",
       "      <td>0.0</td>\n",
       "      <td>0.0</td>\n",
       "      <td>187.0</td>\n",
       "      <td>0.0</td>\n",
       "      <td>3.5</td>\n",
       "      <td>3.0</td>\n",
       "      <td>0.0</td>\n",
       "      <td>3.0</td>\n",
       "      <td>negative</td>\n",
       "    </tr>\n",
       "    <tr>\n",
       "      <th>2</th>\n",
       "      <td>41.0</td>\n",
       "      <td>0.0</td>\n",
       "      <td>2.0</td>\n",
       "      <td>130.0</td>\n",
       "      <td>204.0</td>\n",
       "      <td>0.0</td>\n",
       "      <td>2.0</td>\n",
       "      <td>172.0</td>\n",
       "      <td>0.0</td>\n",
       "      <td>1.4</td>\n",
       "      <td>1.0</td>\n",
       "      <td>0.0</td>\n",
       "      <td>3.0</td>\n",
       "      <td>negative</td>\n",
       "    </tr>\n",
       "    <tr>\n",
       "      <th>3</th>\n",
       "      <td>56.0</td>\n",
       "      <td>1.0</td>\n",
       "      <td>2.0</td>\n",
       "      <td>120.0</td>\n",
       "      <td>236.0</td>\n",
       "      <td>0.0</td>\n",
       "      <td>0.0</td>\n",
       "      <td>178.0</td>\n",
       "      <td>0.0</td>\n",
       "      <td>0.8</td>\n",
       "      <td>1.0</td>\n",
       "      <td>0.0</td>\n",
       "      <td>3.0</td>\n",
       "      <td>negative</td>\n",
       "    </tr>\n",
       "    <tr>\n",
       "      <th>4</th>\n",
       "      <td>57.0</td>\n",
       "      <td>0.0</td>\n",
       "      <td>4.0</td>\n",
       "      <td>120.0</td>\n",
       "      <td>354.0</td>\n",
       "      <td>0.0</td>\n",
       "      <td>0.0</td>\n",
       "      <td>163.0</td>\n",
       "      <td>1.0</td>\n",
       "      <td>0.6</td>\n",
       "      <td>1.0</td>\n",
       "      <td>0.0</td>\n",
       "      <td>3.0</td>\n",
       "      <td>negative</td>\n",
       "    </tr>\n",
       "    <tr>\n",
       "      <th>...</th>\n",
       "      <td>...</td>\n",
       "      <td>...</td>\n",
       "      <td>...</td>\n",
       "      <td>...</td>\n",
       "      <td>...</td>\n",
       "      <td>...</td>\n",
       "      <td>...</td>\n",
       "      <td>...</td>\n",
       "      <td>...</td>\n",
       "      <td>...</td>\n",
       "      <td>...</td>\n",
       "      <td>...</td>\n",
       "      <td>...</td>\n",
       "      <td>...</td>\n",
       "    </tr>\n",
       "    <tr>\n",
       "      <th>172</th>\n",
       "      <td>64.0</td>\n",
       "      <td>1.0</td>\n",
       "      <td>4.0</td>\n",
       "      <td>145.0</td>\n",
       "      <td>212.0</td>\n",
       "      <td>0.0</td>\n",
       "      <td>2.0</td>\n",
       "      <td>132.0</td>\n",
       "      <td>0.0</td>\n",
       "      <td>2.0</td>\n",
       "      <td>2.0</td>\n",
       "      <td>2.0</td>\n",
       "      <td>6.0</td>\n",
       "      <td>positive</td>\n",
       "    </tr>\n",
       "    <tr>\n",
       "      <th>173</th>\n",
       "      <td>38.0</td>\n",
       "      <td>1.0</td>\n",
       "      <td>1.0</td>\n",
       "      <td>120.0</td>\n",
       "      <td>231.0</td>\n",
       "      <td>0.0</td>\n",
       "      <td>0.0</td>\n",
       "      <td>182.0</td>\n",
       "      <td>1.0</td>\n",
       "      <td>3.8</td>\n",
       "      <td>2.0</td>\n",
       "      <td>0.0</td>\n",
       "      <td>7.0</td>\n",
       "      <td>positive</td>\n",
       "    </tr>\n",
       "    <tr>\n",
       "      <th>174</th>\n",
       "      <td>61.0</td>\n",
       "      <td>1.0</td>\n",
       "      <td>4.0</td>\n",
       "      <td>138.0</td>\n",
       "      <td>166.0</td>\n",
       "      <td>0.0</td>\n",
       "      <td>2.0</td>\n",
       "      <td>125.0</td>\n",
       "      <td>1.0</td>\n",
       "      <td>3.6</td>\n",
       "      <td>2.0</td>\n",
       "      <td>1.0</td>\n",
       "      <td>3.0</td>\n",
       "      <td>positive</td>\n",
       "    </tr>\n",
       "    <tr>\n",
       "      <th>175</th>\n",
       "      <td>58.0</td>\n",
       "      <td>1.0</td>\n",
       "      <td>4.0</td>\n",
       "      <td>114.0</td>\n",
       "      <td>318.0</td>\n",
       "      <td>0.0</td>\n",
       "      <td>1.0</td>\n",
       "      <td>140.0</td>\n",
       "      <td>0.0</td>\n",
       "      <td>4.4</td>\n",
       "      <td>3.0</td>\n",
       "      <td>3.0</td>\n",
       "      <td>6.0</td>\n",
       "      <td>positive</td>\n",
       "    </tr>\n",
       "    <tr>\n",
       "      <th>176</th>\n",
       "      <td>70.0</td>\n",
       "      <td>1.0</td>\n",
       "      <td>4.0</td>\n",
       "      <td>145.0</td>\n",
       "      <td>174.0</td>\n",
       "      <td>0.0</td>\n",
       "      <td>0.0</td>\n",
       "      <td>125.0</td>\n",
       "      <td>1.0</td>\n",
       "      <td>2.6</td>\n",
       "      <td>3.0</td>\n",
       "      <td>0.0</td>\n",
       "      <td>7.0</td>\n",
       "      <td>positive</td>\n",
       "    </tr>\n",
       "  </tbody>\n",
       "</table>\n",
       "<p>177 rows × 14 columns</p>\n",
       "</div>"
      ],
      "text/plain": [
       "      age  sex   cp  trestbps   chol  fbs  restecg  thalach  exang  oldpeak  \\\n",
       "0    63.0  1.0  1.0     145.0  233.0  1.0      2.0    150.0    0.0      2.3   \n",
       "1    37.0  1.0  3.0     130.0  250.0  0.0      0.0    187.0    0.0      3.5   \n",
       "2    41.0  0.0  2.0     130.0  204.0  0.0      2.0    172.0    0.0      1.4   \n",
       "3    56.0  1.0  2.0     120.0  236.0  0.0      0.0    178.0    0.0      0.8   \n",
       "4    57.0  0.0  4.0     120.0  354.0  0.0      0.0    163.0    1.0      0.6   \n",
       "..    ...  ...  ...       ...    ...  ...      ...      ...    ...      ...   \n",
       "172  64.0  1.0  4.0     145.0  212.0  0.0      2.0    132.0    0.0      2.0   \n",
       "173  38.0  1.0  1.0     120.0  231.0  0.0      0.0    182.0    1.0      3.8   \n",
       "174  61.0  1.0  4.0     138.0  166.0  0.0      2.0    125.0    1.0      3.6   \n",
       "175  58.0  1.0  4.0     114.0  318.0  0.0      1.0    140.0    0.0      4.4   \n",
       "176  70.0  1.0  4.0     145.0  174.0  0.0      0.0    125.0    1.0      2.6   \n",
       "\n",
       "     slope   ca thal       num  \n",
       "0      3.0  0.0  6.0  negative  \n",
       "1      3.0  0.0  3.0  negative  \n",
       "2      1.0  0.0  3.0  negative  \n",
       "3      1.0  0.0  3.0  negative  \n",
       "4      1.0  0.0  3.0  negative  \n",
       "..     ...  ...  ...       ...  \n",
       "172    2.0  2.0  6.0  positive  \n",
       "173    2.0  0.0  7.0  positive  \n",
       "174    2.0  1.0  3.0  positive  \n",
       "175    3.0  3.0  6.0  positive  \n",
       "176    3.0  0.0  7.0  positive  \n",
       "\n",
       "[177 rows x 14 columns]"
      ]
     },
     "execution_count": 2,
     "metadata": {},
     "output_type": "execute_result"
    }
   ],
   "source": [
    "heart_attack = pd.read_csv(\"heart_attack.csv\")\n",
    "heart_attack"
   ]
  },
  {
   "cell_type": "code",
   "execution_count": 3,
   "id": "7113e2f5",
   "metadata": {},
   "outputs": [
    {
     "name": "stdout",
     "output_type": "stream",
     "text": [
      "<class 'pandas.core.frame.DataFrame'>\n",
      "RangeIndex: 177 entries, 0 to 176\n",
      "Data columns (total 14 columns):\n",
      " #   Column    Non-Null Count  Dtype  \n",
      "---  ------    --------------  -----  \n",
      " 0   age       177 non-null    float64\n",
      " 1   sex       177 non-null    float64\n",
      " 2   cp        177 non-null    float64\n",
      " 3   trestbps  177 non-null    float64\n",
      " 4   chol      177 non-null    float64\n",
      " 5   fbs       177 non-null    float64\n",
      " 6   restecg   177 non-null    float64\n",
      " 7   thalach   177 non-null    float64\n",
      " 8   exang     177 non-null    float64\n",
      " 9   oldpeak   177 non-null    float64\n",
      " 10  slope     177 non-null    float64\n",
      " 11  ca        177 non-null    object \n",
      " 12  thal      177 non-null    object \n",
      " 13  num       177 non-null    object \n",
      "dtypes: float64(11), object(3)\n",
      "memory usage: 19.5+ KB\n"
     ]
    }
   ],
   "source": [
    "heart_attack.info()"
   ]
  },
  {
   "cell_type": "code",
   "execution_count": 4,
   "id": "07434313",
   "metadata": {},
   "outputs": [
    {
     "data": {
      "text/html": [
       "<div>\n",
       "<style scoped>\n",
       "    .dataframe tbody tr th:only-of-type {\n",
       "        vertical-align: middle;\n",
       "    }\n",
       "\n",
       "    .dataframe tbody tr th {\n",
       "        vertical-align: top;\n",
       "    }\n",
       "\n",
       "    .dataframe thead th {\n",
       "        text-align: right;\n",
       "    }\n",
       "</style>\n",
       "<table border=\"1\" class=\"dataframe\">\n",
       "  <thead>\n",
       "    <tr style=\"text-align: right;\">\n",
       "      <th></th>\n",
       "      <th>age</th>\n",
       "      <th>sex</th>\n",
       "      <th>cp</th>\n",
       "      <th>trestbps</th>\n",
       "      <th>chol</th>\n",
       "      <th>fbs</th>\n",
       "      <th>restecg</th>\n",
       "      <th>thalach</th>\n",
       "      <th>exang</th>\n",
       "      <th>oldpeak</th>\n",
       "      <th>slope</th>\n",
       "      <th>ca</th>\n",
       "      <th>thal</th>\n",
       "      <th>num</th>\n",
       "    </tr>\n",
       "  </thead>\n",
       "  <tbody>\n",
       "    <tr>\n",
       "      <th>44</th>\n",
       "      <td>53.0</td>\n",
       "      <td>0.0</td>\n",
       "      <td>3.0</td>\n",
       "      <td>128.0</td>\n",
       "      <td>216.0</td>\n",
       "      <td>0.0</td>\n",
       "      <td>2.0</td>\n",
       "      <td>115.0</td>\n",
       "      <td>0.0</td>\n",
       "      <td>0.0</td>\n",
       "      <td>1.0</td>\n",
       "      <td>0.0</td>\n",
       "      <td>&lt;null&gt;</td>\n",
       "      <td>negative</td>\n",
       "    </tr>\n",
       "    <tr>\n",
       "      <th>85</th>\n",
       "      <td>52.0</td>\n",
       "      <td>1.0</td>\n",
       "      <td>3.0</td>\n",
       "      <td>138.0</td>\n",
       "      <td>223.0</td>\n",
       "      <td>0.0</td>\n",
       "      <td>0.0</td>\n",
       "      <td>169.0</td>\n",
       "      <td>0.0</td>\n",
       "      <td>0.0</td>\n",
       "      <td>1.0</td>\n",
       "      <td>&lt;null&gt;</td>\n",
       "      <td>3.0</td>\n",
       "      <td>negative</td>\n",
       "    </tr>\n",
       "    <tr>\n",
       "      <th>142</th>\n",
       "      <td>58.0</td>\n",
       "      <td>1.0</td>\n",
       "      <td>2.0</td>\n",
       "      <td>125.0</td>\n",
       "      <td>220.0</td>\n",
       "      <td>0.0</td>\n",
       "      <td>0.0</td>\n",
       "      <td>144.0</td>\n",
       "      <td>0.0</td>\n",
       "      <td>0.4</td>\n",
       "      <td>2.0</td>\n",
       "      <td>&lt;null&gt;</td>\n",
       "      <td>7.0</td>\n",
       "      <td>negative</td>\n",
       "    </tr>\n",
       "    <tr>\n",
       "      <th>146</th>\n",
       "      <td>38.0</td>\n",
       "      <td>1.0</td>\n",
       "      <td>3.0</td>\n",
       "      <td>138.0</td>\n",
       "      <td>175.0</td>\n",
       "      <td>0.0</td>\n",
       "      <td>0.0</td>\n",
       "      <td>173.0</td>\n",
       "      <td>0.0</td>\n",
       "      <td>0.0</td>\n",
       "      <td>1.0</td>\n",
       "      <td>&lt;null&gt;</td>\n",
       "      <td>3.0</td>\n",
       "      <td>negative</td>\n",
       "    </tr>\n",
       "  </tbody>\n",
       "</table>\n",
       "</div>"
      ],
      "text/plain": [
       "      age  sex   cp  trestbps   chol  fbs  restecg  thalach  exang  oldpeak  \\\n",
       "44   53.0  0.0  3.0     128.0  216.0  0.0      2.0    115.0    0.0      0.0   \n",
       "85   52.0  1.0  3.0     138.0  223.0  0.0      0.0    169.0    0.0      0.0   \n",
       "142  58.0  1.0  2.0     125.0  220.0  0.0      0.0    144.0    0.0      0.4   \n",
       "146  38.0  1.0  3.0     138.0  175.0  0.0      0.0    173.0    0.0      0.0   \n",
       "\n",
       "     slope      ca    thal       num  \n",
       "44     1.0     0.0  <null>  negative  \n",
       "85     1.0  <null>     3.0  negative  \n",
       "142    2.0  <null>     7.0  negative  \n",
       "146    1.0  <null>     3.0  negative  "
      ]
     },
     "execution_count": 4,
     "metadata": {},
     "output_type": "execute_result"
    }
   ],
   "source": [
    "heart_attack[(heart_attack['ca'] == '<null>') | (heart_attack['thal'] == '<null>')]"
   ]
  },
  {
   "cell_type": "code",
   "execution_count": 5,
   "id": "7eeeb893",
   "metadata": {},
   "outputs": [],
   "source": [
    "heart_attack.drop(heart_attack[(heart_attack['ca'] == '<null>') | (heart_attack['thal'] == '<null>')].index , axis=0 , \n",
    "                                     inplace = True)"
   ]
  },
  {
   "cell_type": "code",
   "execution_count": 6,
   "id": "f8a871ec",
   "metadata": {},
   "outputs": [],
   "source": [
    "heart_attack[['ca','thal']] = heart_attack[['ca','thal']].astype(float)"
   ]
  },
  {
   "cell_type": "code",
   "execution_count": 7,
   "id": "1f7ca200",
   "metadata": {},
   "outputs": [],
   "source": [
    "heart_attack['num'] = heart_attack['num'].replace({'negative' : 0 , 'positive' : 1})"
   ]
  },
  {
   "cell_type": "code",
   "execution_count": 8,
   "id": "8743ca19",
   "metadata": {},
   "outputs": [
    {
     "data": {
      "text/plain": [
       "age          41\n",
       "sex           2\n",
       "cp            4\n",
       "trestbps     41\n",
       "chol        110\n",
       "fbs           2\n",
       "restecg       3\n",
       "thalach      69\n",
       "exang         2\n",
       "oldpeak      31\n",
       "slope         3\n",
       "ca            4\n",
       "thal          3\n",
       "num           2\n",
       "dtype: int64"
      ]
     },
     "execution_count": 8,
     "metadata": {},
     "output_type": "execute_result"
    }
   ],
   "source": [
    "heart_attack.nunique()"
   ]
  },
  {
   "cell_type": "code",
   "execution_count": 15,
   "id": "aa98cca0",
   "metadata": {},
   "outputs": [
    {
     "data": {
      "image/png": "[encoded data removed]",
      "text/plain": [
       "<Figure size 432x288 with 1 Axes>"
      ]
     },
     "metadata": {
      "needs_background": "light"
     },
     "output_type": "display_data"
    },
    {
     "name": "stdout",
     "output_type": "stream",
     "text": [
      "negative ratio : % 92.48554913294798\n",
      "positive ratio : % 7.514450867052023\n"
     ]
    }
   ],
   "source": [
    "plt.figure()\n",
    "sns.countplot(heart_attack['num'])\n",
    "plt.show()\n",
    "print(\"negative ratio : % {}\".format((100 * len(heart_attack[heart_attack['num'] == 0])) / len(heart_attack['num'])))\n",
    "print(\"positive ratio : % {}\".format((100 * len(heart_attack[heart_attack['num'] == 1])) / len(heart_attack['num'])))"
   ]
  },
  {
   "cell_type": "code",
   "execution_count": 16,
   "id": "0309659f",
   "metadata": {},
   "outputs": [],
   "source": [
    "from sklearn.linear_model import LogisticRegression\n",
    "from sklearn.model_selection import train_test_split\n",
    "from sklearn.metrics import classification_report"
   ]
  },
  {
   "cell_type": "code",
   "execution_count": 38,
   "id": "7e65b684",
   "metadata": {},
   "outputs": [],
   "source": [
    "def create_model (X , Y) :\n",
    "    X_train , X_test , Y_train , Y_test = train_test_split(X , Y , test_size = 0.2 , random_state = 456)\n",
    "    log_reg = LogisticRegression()\n",
    "    log_reg.fit(X_train , Y_train)\n",
    "    \n",
    "    train_pred = log_reg.predict(X_train)\n",
    "    test_pred = log_reg.predict(X_test)\n",
    "    \n",
    "    print(\"TRAİN SET\")\n",
    "    print(\"train accuracy : {}\".format(accuracy_score(Y_train ,train_pred)))\n",
    "    print(\"train precision: {}\".format(precision_score(Y_train , train_pred)))\n",
    "    print(\"train recall   : {}\".format(recall_score(Y_train , train_pred)))\n",
    "    print(\"train f1-score : {}\".format(f1_score(Y_train , train_pred)))\n",
    "    \n",
    "    print(\"TEST SET\")\n",
    "    print(\"test accuracy  : {}\".format(accuracy_score(Y_test ,test_pred)))\n",
    "    print(\"test precision : {}\".format(precision_score(Y_test , test_pred)))\n",
    "    print(\"test recall    : {}\".format(recall_score(Y_test , test_pred)))\n",
    "    print(\"test f1-score  : {}\".format(f1_score(Y_test , test_pred)))\n",
    "    print(\"--\"*27)\n",
    "    print(\"TRAİN SET\")\n",
    "    print(classification_report(Y_train , train_pred))\n",
    "    print(\"--\"*27)\n",
    "    print(\"TEST SET\")\n",
    "    print(classification_report(Y_test , test_pred))\n",
    "    \n",
    "    "
   ]
  },
  {
   "cell_type": "code",
   "execution_count": 39,
   "id": "f016dd08",
   "metadata": {},
   "outputs": [
    {
     "name": "stdout",
     "output_type": "stream",
     "text": [
      "TRAİN SET\n",
      "train accuracy : 0.9347826086956522\n",
      "train precision: 1.0\n",
      "train recall   : 0.1\n",
      "train f1-score : 0.18181818181818182\n",
      "TEST SET\n",
      "test accuracy  : 0.9142857142857143\n",
      "test precision : 0.0\n",
      "test recall    : 0.0\n",
      "test f1-score  : 0.0\n",
      "------------------------------------------------------\n",
      "TRAİN SET\n",
      "              precision    recall  f1-score   support\n",
      "\n",
      "           0       0.93      1.00      0.97       128\n",
      "           1       1.00      0.10      0.18        10\n",
      "\n",
      "    accuracy                           0.93       138\n",
      "   macro avg       0.97      0.55      0.57       138\n",
      "weighted avg       0.94      0.93      0.91       138\n",
      "\n",
      "------------------------------------------------------\n",
      "TEST SET\n",
      "              precision    recall  f1-score   support\n",
      "\n",
      "           0       0.91      1.00      0.96        32\n",
      "           1       0.00      0.00      0.00         3\n",
      "\n",
      "    accuracy                           0.91        35\n",
      "   macro avg       0.46      0.50      0.48        35\n",
      "weighted avg       0.84      0.91      0.87        35\n",
      "\n"
     ]
    }
   ],
   "source": [
    "X = heart_attack[['age','sex','chol']]\n",
    "Y = heart_attack['num']\n",
    "create_model(X , Y)"
   ]
  },
  {
   "cell_type": "markdown",
   "id": "09de8bb8",
   "metadata": {},
   "source": [
    "2 . By experimenting with different methods and class ratios; overcome class imbalance, determine the best performing method and class ratio."
   ]
  },
  {
   "cell_type": "markdown",
   "id": "83d768b8",
   "metadata": {},
   "source": [
    "Örneklem sayısı az olan sınıfın örneği çok az olduğu için down sampling - örneklem azaltma metodunu kullanmak modelin eğitim performansı için iyi olmayacağından up sampling metoduyla örneklem sayısını arttırdım. SMOTE ve ADASYN algoritmalarıyla sentetik veri ürettim."
   ]
  },
  {
   "cell_type": "markdown",
   "id": "30e151bd",
   "metadata": {},
   "source": [
    "# Up Sampling"
   ]
  },
  {
   "cell_type": "code",
   "execution_count": 22,
   "id": "fe3a2ccf",
   "metadata": {},
   "outputs": [],
   "source": [
    "from sklearn.utils import resample"
   ]
  },
  {
   "cell_type": "code",
   "execution_count": 40,
   "id": "35d7bb25",
   "metadata": {},
   "outputs": [],
   "source": [
    "negative = heart_attack[heart_attack['num'] == 0]\n",
    "positive = heart_attack[heart_attack['num'] == 1]"
   ]
  },
  {
   "cell_type": "code",
   "execution_count": 41,
   "id": "793faea7",
   "metadata": {},
   "outputs": [],
   "source": [
    "positive_upsampling = resample(positive , replace = True , n_samples = len(negative) , random_state = 456)\n",
    "upsampled_df = pd.concat([negative , positive_upsampling])"
   ]
  },
  {
   "cell_type": "code",
   "execution_count": 42,
   "id": "1108860b",
   "metadata": {},
   "outputs": [
    {
     "data": {
      "text/plain": [
       "0    160\n",
       "1    160\n",
       "Name: num, dtype: int64"
      ]
     },
     "execution_count": 42,
     "metadata": {},
     "output_type": "execute_result"
    }
   ],
   "source": [
    "upsampled_df['num'].value_counts()"
   ]
  },
  {
   "cell_type": "code",
   "execution_count": 43,
   "id": "ea53d31a",
   "metadata": {},
   "outputs": [
    {
     "name": "stdout",
     "output_type": "stream",
     "text": [
      "TRAİN SET\n",
      "train accuracy : 0.76953125\n",
      "train precision: 0.7426470588235294\n",
      "train recall   : 0.808\n",
      "train f1-score : 0.7739463601532568\n",
      "TEST SET\n",
      "test accuracy  : 0.71875\n",
      "test precision : 0.7297297297297297\n",
      "test recall    : 0.7714285714285715\n",
      "test f1-score  : 0.75\n",
      "------------------------------------------------------\n",
      "TRAİN SET\n",
      "              precision    recall  f1-score   support\n",
      "\n",
      "           0       0.80      0.73      0.76       131\n",
      "           1       0.74      0.81      0.77       125\n",
      "\n",
      "    accuracy                           0.77       256\n",
      "   macro avg       0.77      0.77      0.77       256\n",
      "weighted avg       0.77      0.77      0.77       256\n",
      "\n",
      "------------------------------------------------------\n",
      "TEST SET\n",
      "              precision    recall  f1-score   support\n",
      "\n",
      "           0       0.70      0.66      0.68        29\n",
      "           1       0.73      0.77      0.75        35\n",
      "\n",
      "    accuracy                           0.72        64\n",
      "   macro avg       0.72      0.71      0.71        64\n",
      "weighted avg       0.72      0.72      0.72        64\n",
      "\n"
     ]
    }
   ],
   "source": [
    "X = upsampled_df[['age','sex','chol']]\n",
    "Y = upsampled_df['num']\n",
    "create_model(X , Y)"
   ]
  },
  {
   "cell_type": "code",
   "execution_count": 44,
   "id": "1b4891c9",
   "metadata": {},
   "outputs": [],
   "source": [
    "from imblearn.over_sampling import SMOTE"
   ]
  },
  {
   "cell_type": "code",
   "execution_count": 45,
   "id": "d0039c0a",
   "metadata": {},
   "outputs": [
    {
     "name": "stdout",
     "output_type": "stream",
     "text": [
      "TRAİN SET\n",
      "train accuracy : 0.71875\n",
      "train precision: 0.6906474820143885\n",
      "train recall   : 0.768\n",
      "train f1-score : 0.7272727272727274\n",
      "TEST SET\n",
      "test accuracy  : 0.734375\n",
      "test precision : 0.7647058823529411\n",
      "test recall    : 0.7428571428571429\n",
      "test f1-score  : 0.7536231884057971\n",
      "------------------------------------------------------\n",
      "TRAİN SET\n",
      "              precision    recall  f1-score   support\n",
      "\n",
      "           0       0.75      0.67      0.71       131\n",
      "           1       0.69      0.77      0.73       125\n",
      "\n",
      "    accuracy                           0.72       256\n",
      "   macro avg       0.72      0.72      0.72       256\n",
      "weighted avg       0.72      0.72      0.72       256\n",
      "\n",
      "------------------------------------------------------\n",
      "TEST SET\n",
      "              precision    recall  f1-score   support\n",
      "\n",
      "           0       0.70      0.72      0.71        29\n",
      "           1       0.76      0.74      0.75        35\n",
      "\n",
      "    accuracy                           0.73        64\n",
      "   macro avg       0.73      0.73      0.73        64\n",
      "weighted avg       0.74      0.73      0.73        64\n",
      "\n"
     ]
    }
   ],
   "source": [
    "X = heart_attack[['age','sex','chol']]\n",
    "Y = heart_attack['num']\n",
    "\n",
    "sm = SMOTE(random_state = 27)\n",
    "X_smote , Y_smote = sm.fit_resample(X ,Y)\n",
    "create_model(X_smote , Y_smote)"
   ]
  },
  {
   "cell_type": "code",
   "execution_count": 46,
   "id": "a0771af5",
   "metadata": {},
   "outputs": [],
   "source": [
    "from imblearn.over_sampling import ADASYN"
   ]
  },
  {
   "cell_type": "code",
   "execution_count": 47,
   "id": "844f5856",
   "metadata": {},
   "outputs": [
    {
     "name": "stdout",
     "output_type": "stream",
     "text": [
      "TRAİN SET\n",
      "train accuracy : 0.71484375\n",
      "train precision: 0.6992481203007519\n",
      "train recall   : 0.7380952380952381\n",
      "train f1-score : 0.7181467181467183\n",
      "TEST SET\n",
      "test accuracy  : 0.6923076923076923\n",
      "test precision : 0.7272727272727273\n",
      "test recall    : 0.6857142857142857\n",
      "test f1-score  : 0.7058823529411764\n",
      "------------------------------------------------------\n",
      "TRAİN SET\n",
      "              precision    recall  f1-score   support\n",
      "\n",
      "           0       0.73      0.69      0.71       130\n",
      "           1       0.70      0.74      0.72       126\n",
      "\n",
      "    accuracy                           0.71       256\n",
      "   macro avg       0.72      0.72      0.71       256\n",
      "weighted avg       0.72      0.71      0.71       256\n",
      "\n",
      "------------------------------------------------------\n",
      "TEST SET\n",
      "              precision    recall  f1-score   support\n",
      "\n",
      "           0       0.66      0.70      0.68        30\n",
      "           1       0.73      0.69      0.71        35\n",
      "\n",
      "    accuracy                           0.69        65\n",
      "   macro avg       0.69      0.69      0.69        65\n",
      "weighted avg       0.69      0.69      0.69        65\n",
      "\n"
     ]
    }
   ],
   "source": [
    "X = heart_attack[['age','sex','chol']]\n",
    "Y = heart_attack['num']\n",
    "\n",
    "ad = ADASYN()\n",
    "X_adasyn , Y_adasyn = ad.fit_resample(X, Y)\n",
    "\n",
    "create_model(X_adasyn , Y_adasyn)"
   ]
  },
  {
   "attachments": {
    "Ads%C4%B1z.png": {
     "image/png": "[encoded data removed]"
    }
   },
   "cell_type": "markdown",
   "id": "900c4688",
   "metadata": {},
   "source": [
    "![Ads%C4%B1z.png](attachment:Ads%C4%B1z.png)"
   ]
  },
  {
   "cell_type": "markdown",
   "id": "c92966c1",
   "metadata": {},
   "source": [
    "Up sampling , SMOTE ve ADASYN algoritmaları birbirine çok yakın sonuçlar verdi. Ama SMOTE algoritmasının diğerlerine göre küçük de olsa daha iyi olduğunu söyleyebilirim."
   ]
  },
  {
   "cell_type": "code",
   "execution_count": null,
   "id": "041f9824",
   "metadata": {},
   "outputs": [],
   "source": []
  }
 ],
 "metadata": {
  "kernelspec": {
   "display_name": "Python 3",
   "language": "python",
   "name": "python3"
  },
  "language_info": {
   "codemirror_mode": {
    "name": "ipython",
    "version": 3
   },
   "file_extension": ".py",
   "mimetype": "text/x-python",
   "name": "python",
   "nbconvert_exporter": "python",
   "pygments_lexer": "ipython3",
   "version": "3.8.8"
  }
 },
 "nbformat": 4,
 "nbformat_minor": 5
}
